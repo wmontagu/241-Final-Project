{
 "cells": [
  {
   "cell_type": "code",
   "execution_count": 1,
   "id": "a16b6deb-718c-4a53-9dfd-c78e04b8e06a",
   "metadata": {
    "tags": []
   },
   "outputs": [
    {
     "data": {
      "text/plain": [
       "4-element Vector{Float64}:\n",
       " 0.3333333333333333\n",
       " 0.3333333333333333\n",
       " 0.3333333333333333\n",
       " 0.0"
      ]
     },
     "execution_count": 1,
     "metadata": {},
     "output_type": "execute_result"
    }
   ],
   "source": [
    "using LinearAlgebra\n",
    "\n",
    "#What happens if it is a sink (one website only links to itself?). Then, every value converges on that.\n",
    "#Once it is done, rank the most likely to the least likely.\n",
    "#ex.\n",
    "\n",
    "SiteA = [0; 1/2; 0; 1/2]\n",
    "SiteB = [1/2; 0; 1/2; 0]\n",
    "SiteC = [1; 0; 0; 0]\n",
    "SiteD = [1/3; 1/3; 1/3; 0]\n",
    "\n",
    "#ex1\n",
    "SiteA = [0 1/2 0 0 0 1/2 0 0]\n",
    "SiteB = [0 0 1/3 1/3 1/3 0 0 0]\n",
    "SiteC = [0 0 0 1 0 0 0 0]\n",
    "SiteD = [1 0 0 0 0 0 0 0]\n",
    "SiteE = [1 0 0 0 0 0 0 0]\n",
    "SiteF = [0 0 0 0 0 0 1 0]\n",
    "SiteG = [0 0 0 0 0 0 0 1]\n",
    "SiteH = [1/2 0 0 1/2 0 0 0 0]\n",
    "\n",
    "\n",
    "\n",
    "\n",
    "\n",
    "#M = d * Markov Matrix + (1 - d) * (Matrix of 1/N)\n",
    "\n",
    "\n",
    "\n",
    "#P(X) originally is 1/N at 0 iteration.\n",
    "\n",
    "#individual values are PR(X) = d * ((X, Y) * PR(Y) + ...) + d - 0.15\n",
    "#individaul page ranks are for values that are not directly linked to the page rank we are trying to calculate"
   ]
  },
  {
   "cell_type": "code",
   "execution_count": 47,
   "id": "cdc19f5e-450c-4eb4-be92-c88e3e9d70b2",
   "metadata": {
    "tags": []
   },
   "outputs": [
    {
     "data": {
      "text/plain": [
       "PageRank_Recursive (generic function with 1 method)"
      ]
     },
     "execution_count": 47,
     "metadata": {},
     "output_type": "execute_result"
    }
   ],
   "source": [
    "function PageRank_Recursive(OriginalMatrix, ListofPageRanksinOrder, iterations)\n",
    "    d = 0.85\n",
    "    if iterations == 0\n",
    "        return ListofPageRanksinOrder\n",
    "    else\n",
    "        newListofPageRanks = Vector{Float64}()\n",
    "        for num1 in 1:length(ListofPageRanksinOrder)\n",
    "            count = 0\n",
    "            PrX = 1 - d\n",
    "            for num2 in 1:length(ListofPageRanksinOrder)\n",
    "                if (OriginalMatrix[num1, num2]) != 0\n",
    "                    count = 0\n",
    "                    for num3 in 1:length(ListofPageRanksinOrder)\n",
    "                        if OriginalMatrix[num3, num2] != 0\n",
    "                            count += 1\n",
    "                        end\n",
    "                    end\n",
    "                    PrX += d * (ListofPageRanksinOrder[num2] / count)\n",
    "                end\n",
    "            end\n",
    "            ListofPageRanksinOrder[num1] = PrX\n",
    "        end\n",
    "        PageRank_Recursive(OriginalMatrix, ListofPageRanksinOrder, iterations - 1)\n",
    "    end\n",
    "end"
   ]
  },
  {
   "cell_type": "code",
   "execution_count": 48,
   "id": "9b0293f8-4967-4ff4-9c98-370956f909cf",
   "metadata": {
    "tags": []
   },
   "outputs": [
    {
     "data": {
      "text/plain": [
       "userInput (generic function with 1 method)"
      ]
     },
     "execution_count": 48,
     "metadata": {},
     "output_type": "execute_result"
    }
   ],
   "source": [
    "function userInput()\n",
    "    print(\"PageRank\\n\")\n",
    "    print(\"How many iterations would you like to do?\")\n",
    "    i = readline()\n",
    "    iterations = parse(Int64, i)\n",
    "    print(\"How many different webpages would you like to enter?\")\n",
    "    str = readline()\n",
    "    num = parse(Int64, str)\n",
    "    fullWebsiteMatrix = []\n",
    "    list = []\n",
    "    k = num\n",
    "    for v in 1:num\n",
    "        print(\"Enter in the vector of website $(v) seperated by spaces\")\n",
    "        input = readline()\n",
    "        list = [contains(x, \"/\") ? eval(Meta.parse(x)) : parse(Float64, x) for x in split(input, \" \")]\n",
    "        while sum(list) != 1\n",
    "            print(\"Please try again for website $(v), the sum of this column is not 1\")\n",
    "            input = readline()\n",
    "            list = [contains(x, \"/\") ? eval(Meta.parse(x)) : parse(Float64, x) for x in split(input, \" \")]\n",
    "            while length(list) != num\n",
    "                print(\"Please try again for website $(v), you need $(k) values in the matrix\")\n",
    "                input = readline()\n",
    "                list = [contains(x, \"/\") ? eval(Meta.parse(x)) : parse(Float64, x) for x in split(input, \" \")]\n",
    "            end\n",
    "        end\n",
    "        push!(fullWebsiteMatrix, list)\n",
    "    end\n",
    "    x = reduce(hcat, fullWebsiteMatrix)\n",
    "    print(x)\n",
    "    return PageRank_Recursive(x, ones(length(list)) / length(list), iterations)\n",
    "end"
   ]
  },
  {
   "cell_type": "code",
   "execution_count": 49,
   "id": "cd46fa20-86ed-4ca7-a8f3-bb4adb9fc433",
   "metadata": {
    "tags": []
   },
   "outputs": [
    {
     "name": "stdout",
     "output_type": "stream",
     "text": [
      "PageRank\n",
      "How many iterations would you like to do?"
     ]
    },
    {
     "name": "stdin",
     "output_type": "stream",
     "text": [
      "stdin>  80\n"
     ]
    },
    {
     "name": "stdout",
     "output_type": "stream",
     "text": [
      "How many different webpages would you like to enter?"
     ]
    },
    {
     "name": "stdin",
     "output_type": "stream",
     "text": [
      "stdin>  3\n"
     ]
    },
    {
     "name": "stdout",
     "output_type": "stream",
     "text": [
      "Enter in the vector of website 1 seperated by spaces"
     ]
    },
    {
     "name": "stdin",
     "output_type": "stream",
     "text": [
      "stdin>  0 1 0\n"
     ]
    },
    {
     "name": "stdout",
     "output_type": "stream",
     "text": [
      "Enter in the vector of website 2 seperated by spaces"
     ]
    },
    {
     "name": "stdin",
     "output_type": "stream",
     "text": [
      "stdin>  1/2 0 1/2\n"
     ]
    },
    {
     "name": "stdout",
     "output_type": "stream",
     "text": [
      "Enter in the vector of website 3 seperated by spaces"
     ]
    },
    {
     "name": "stdin",
     "output_type": "stream",
     "text": [
      "stdin>  1 0 0\n"
     ]
    },
    {
     "name": "stdout",
     "output_type": "stream",
     "text": [
      "[0.0 0.5 1.0; 1.0 0.0 0.0; 0.0 0.5 0.0]"
     ]
    },
    {
     "data": {
      "text/plain": [
       "3-element Vector{Float64}:\n",
       " 1.1921989824759662\n",
       " 1.1633691351045714\n",
       " 0.6444318824194428"
      ]
     },
     "execution_count": 49,
     "metadata": {},
     "output_type": "execute_result"
    }
   ],
   "source": [
    "v = userInput()"
   ]
  },
  {
   "cell_type": "code",
   "execution_count": null,
   "id": "01d770f9-5c3d-4dba-88ee-e6ba9345e7b3",
   "metadata": {
    "tags": []
   },
   "outputs": [],
   "source": [
    "[SiteA SiteB SiteC SiteD]"
   ]
  },
  {
   "cell_type": "code",
   "execution_count": 39,
   "id": "df73c3e8-8443-4b84-bec8-4e9e7d26e67c",
   "metadata": {
    "tags": []
   },
   "outputs": [
    {
     "name": "stdout",
     "output_type": "stream",
     "text": [
      "Result of page rank:\n",
      "# 1: b -- 2.475179 \n",
      "# 2: a -- 0.781350 \n",
      "# 3: c -- 0.371383 \n",
      "# 4: d -- 0.371383 \n"
     ]
    }
   ],
   "source": [
    "using Printf\n",
    "#alph = [\"A\",\"B\",\"C\",\"D\",\"E\",\"F\",\"G\",\"H\",\"I\",\"J\",\"K\",\"L\".\"M\",\"N\",\"O\",\"P\",\"Q\",\"R\",\"S\",\"T\",\"U\",\"V\",\"W\",\"X\",\"Y\",\"Z\"]\n",
    "alph = collect('a':'z')\n",
    "println(\"Result of page rank:\")\n",
    "for i in 1:length(v)\n",
    "    maxIndex = argmax(v)\n",
    "    @printf(\"# %d: %c -- %f \\n\", i, alph[maxIndex], v[maxIndex])\n",
    "    v[maxIndex] = 0\n",
    "end"
   ]
  },
  {
   "cell_type": "code",
   "execution_count": null,
   "id": "b56bbc6c-d61c-4dfd-a346-0dbad6ded9a8",
   "metadata": {
    "tags": []
   },
   "outputs": [],
   "source": []
  },
  {
   "cell_type": "code",
   "execution_count": 26,
   "id": "1b7611e8-6afa-4b5f-abec-dec3cd950555",
   "metadata": {
    "tags": []
   },
   "outputs": [
    {
     "data": {
      "text/plain": [
       "userInput2 (generic function with 1 method)"
      ]
     },
     "execution_count": 26,
     "metadata": {},
     "output_type": "execute_result"
    }
   ],
   "source": [
    "function userInput2()\n",
    "    print(\"PageRank\\n\")\n",
    "    print(\"How many different webpages would you like to enter?\")\n",
    "    str = readline()\n",
    "    num = parse(Int64, str)\n",
    "    fullWebsiteMatrix = []\n",
    "    list = []\n",
    "    k = num\n",
    "    for v in 1:num\n",
    "        print(\"Enter in the vector of website $(v) seperated by spaces\")\n",
    "        input = readline()\n",
    "        list = [contains(x, \"/\") ? eval(Meta.parse(x)) : parse(Float64, x) for x in split(input, \" \")]\n",
    "        while sum(list) != 1\n",
    "            print(\"Please try again for website $(v), the sum of this column is not 1\")\n",
    "            input = readline()\n",
    "            list = [contains(x, \"/\") ? eval(Meta.parse(x)) : parse(Float64, x) for x in split(input, \" \")]\n",
    "            while length(list) != num\n",
    "                print(\"Please try again for website $(v), you need $(k) values in the matrix\")\n",
    "                input = readline()\n",
    "                list = [contains(x, \"/\") ? eval(Meta.parse(x)) : parse(Float64, x) for x in split(input, \" \")]\n",
    "            end\n",
    "        end\n",
    "        push!(fullWebsiteMatrix, list)\n",
    "    end\n",
    "    return reduce(hcat, fullWebsiteMatrix)\n",
    "end"
   ]
  },
  {
   "cell_type": "code",
   "execution_count": 40,
   "id": "45b2e3fa-a5df-4303-a87e-bb09b19b5772",
   "metadata": {
    "tags": []
   },
   "outputs": [
    {
     "name": "stdout",
     "output_type": "stream",
     "text": [
      "PageRank\n",
      "How many different webpages would you like to enter?"
     ]
    },
    {
     "name": "stdin",
     "output_type": "stream",
     "text": [
      "stdin>  4\n"
     ]
    },
    {
     "name": "stdout",
     "output_type": "stream",
     "text": [
      "Enter in the vector of website 1 seperated by spaces"
     ]
    },
    {
     "name": "stdin",
     "output_type": "stream",
     "text": [
      "stdin>  0 1/3 1/3 1/3\n"
     ]
    },
    {
     "name": "stdout",
     "output_type": "stream",
     "text": [
      "Enter in the vector of website 2 seperated by spaces"
     ]
    },
    {
     "name": "stdin",
     "output_type": "stream",
     "text": [
      "stdin>  0 1 0 0\n"
     ]
    },
    {
     "name": "stdout",
     "output_type": "stream",
     "text": [
      "Enter in the vector of website 3 seperated by spaces"
     ]
    },
    {
     "name": "stdin",
     "output_type": "stream",
     "text": [
      "stdin>  1 0 0 0\n"
     ]
    },
    {
     "name": "stdout",
     "output_type": "stream",
     "text": [
      "Enter in the vector of website 4 seperated by spaces"
     ]
    },
    {
     "name": "stdin",
     "output_type": "stream",
     "text": [
      "stdin>  1 0 0 0\n"
     ]
    },
    {
     "name": "stdout",
     "output_type": "stream",
     "text": [
      "How many iterations would you like to do?"
     ]
    },
    {
     "name": "stdin",
     "output_type": "stream",
     "text": [
      "stdin>  50\n"
     ]
    },
    {
     "name": "stdout",
     "output_type": "stream",
     "text": [
      "Final Hub Scores: [1.0, 6.897906908259258e-13, 8.36856435952445e-14, 8.36856435952445e-14]\n",
      "Final Authority Scores: [3.5504811644494774e-13, 8.571619780164148e-13, 0.7071067811865475, 0.7071067811865475]\n"
     ]
    }
   ],
   "source": [
    "using Printf\n",
    "using LinearAlgebra\n",
    "x = userInput2()\n",
    "print(\"How many iterations would you like to do?\")\n",
    "i = readline()\n",
    "num_iterations = parse(Int64, i)\n",
    "n = size(x, 1)\n",
    "hub_scores = ones(n)\n",
    "authorityScores = ones(n)\n",
    "for i in 1:num_iterations\n",
    "    authorityScores = x' * hub_scores\n",
    "    authorityScores /= norm(authorityScores)\n",
    "    hub_scores = x * authorityScores\n",
    "    hub_scores /= norm(hub_scores)\n",
    "end\n",
    "println(\"Final Hub Scores: \", hub_scores)\n",
    "println(\"Final Authority Scores: \", authorityScores)"
   ]
  },
  {
   "cell_type": "code",
   "execution_count": 41,
   "id": "4ad4d76b-31f5-43c8-af34-000fcf5272b7",
   "metadata": {
    "tags": []
   },
   "outputs": [
    {
     "name": "stdout",
     "output_type": "stream",
     "text": [
      "Hub Scores:\n",
      "# 1: a -- 1.000000 \n",
      "# 2: b -- 0.000000 \n",
      "# 3: c -- 0.000000 \n",
      "# 4: d -- 0.000000 \n"
     ]
    }
   ],
   "source": [
    "using Printf\n",
    "#alph = [\"A\",\"B\",\"C\",\"D\",\"E\",\"F\",\"G\",\"H\",\"I\",\"J\",\"K\",\"L\".\"M\",\"N\",\"O\",\"P\",\"Q\",\"R\",\"S\",\"T\",\"U\",\"V\",\"W\",\"X\",\"Y\",\"Z\"]\n",
    "alph = collect('a':'z')\n",
    "v = hub_scores\n",
    "println(\"Hub Scores:\")\n",
    "for i in 1:length(v)\n",
    "    maxIndex = argmax(v)\n",
    "    @printf(\"# %d: %c -- %f \\n\", i, alph[maxIndex], v[maxIndex])\n",
    "    v[maxIndex] = 0\n",
    "end"
   ]
  },
  {
   "cell_type": "code",
   "execution_count": 42,
   "id": "9d331ba6-2119-4fde-b4bd-c4f4cb7ebeaf",
   "metadata": {
    "tags": []
   },
   "outputs": [
    {
     "name": "stdout",
     "output_type": "stream",
     "text": [
      "Authority Scores:\n",
      "# 1: c -- 0.707107 \n",
      "# 2: d -- 0.707107 \n",
      "# 3: b -- 0.000000 \n",
      "# 4: a -- 0.000000 \n"
     ]
    }
   ],
   "source": [
    "using Printf\n",
    "#alph = [\"A\",\"B\",\"C\",\"D\",\"E\",\"F\",\"G\",\"H\",\"I\",\"J\",\"K\",\"L\".\"M\",\"N\",\"O\",\"P\",\"Q\",\"R\",\"S\",\"T\",\"U\",\"V\",\"W\",\"X\",\"Y\",\"Z\"]\n",
    "alph = collect('a':'z')\n",
    "v = authorityScores\n",
    "println(\"Authority Scores:\")\n",
    "for i in 1:length(v)\n",
    "    maxIndex = argmax(v)\n",
    "    @printf(\"# %d: %c -- %f \\n\", i, alph[maxIndex], v[maxIndex])\n",
    "    v[maxIndex] = 0\n",
    "end"
   ]
  },
  {
   "cell_type": "code",
   "execution_count": null,
   "id": "431de873-fab0-4043-82ce-56c4f181cf3b",
   "metadata": {},
   "outputs": [],
   "source": []
  },
  {
   "cell_type": "code",
   "execution_count": null,
   "id": "f7a363ff-a688-49ad-9b48-e16e60b02ccc",
   "metadata": {},
   "outputs": [],
   "source": []
  }
 ],
 "metadata": {
  "kernelspec": {
   "display_name": "Julia 1.9.3",
   "language": "julia",
   "name": "julia-1.9"
  },
  "language_info": {
   "file_extension": ".jl",
   "mimetype": "application/julia",
   "name": "julia",
   "version": "1.9.3"
  }
 },
 "nbformat": 4,
 "nbformat_minor": 5
}
